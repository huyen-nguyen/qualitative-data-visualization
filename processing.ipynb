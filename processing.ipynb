{
 "cells": [
  {
   "cell_type": "code",
   "execution_count": 9,
   "metadata": {},
   "outputs": [
    {
     "name": "stdout",
     "output_type": "stream",
     "text": [
      "an environmental studies\n",
      "I\n",
      "tons\n",
      "data\n",
      "environmental issues\n",
      "the results\n",
      "an audience\n",
      "I\n",
      "this class\n",
      "me\n",
      "the skills\n",
      "large pieces\n",
      "data\n",
      "results\n",
      "what\n",
      "the data\n",
      "a certain environmental issue\n",
      "I\n",
      "the ability\n",
      "sense\n",
      "copious amounts\n",
      "data\n",
      "patterns\n",
      "I\n",
      "lecture style teachings\n",
      "a portion\n",
      "class time\n",
      "individual work\n",
      "my best way\n",
      "a topic\n",
      "hour\n",
      "long lectures\n",
      "no time\n",
      "the material\n",
      "me\n",
      "my best work\n",
      "{'work', 'sit', 'make', 'produce', 'conclude', 'report', 'can', 'gain', 'collect', 'feel', 'leave', 'simplify', 'hope', 'need', 'tie', 'analyze', 'designate', 'provide', 'communicate', 'will', 'learn'}\n"
     ]
    }
   ],
   "source": [
    "import spacy\n",
    "import csv\n",
    "import nltk\n",
    "\n",
    "text = \"As an environmental studies major, I need to work with tons of data collected on environmental issues and be able to thoroughly communicate the results to an audience. I feel this class will provide me the skills to be able to accurately analyze large pieces of data and be able to produce results that simplify what the data concludes on a certain environmental issue. I hope to gain the ability to make sense of copious amounts of data and sense patterns that can be reported.I feel that lecture style teachings tied with a portion of class time designated to individual work is my best way of learning a topic. Sitting through hour long lectures with no time to work through the material leaves me frustrated and unable to produce my best work.\"\n",
    "\n",
    "nlp = spacy.load(\"en_core_web_sm\")\n",
    "doc = nlp(text)\n",
    "\n",
    "for chunk in doc.noun_chunks:\n",
    "    print(chunk.text, \n",
    "#           chunk.root.text, \n",
    "#           chunk.root.dep_,\n",
    "#           chunk.root.head.text\n",
    "         )\n",
    "\n",
    "verbs = set()\n",
    "\n",
    "for token in doc:\n",
    "    if (token.pos_ == \"VERB\"):\n",
    "        verbs.add(token.lemma_)\n",
    "        \n",
    "print(verbs)\n",
    "\n",
    "#     print(token.text, token.lemma_, token.pos_, token.tag_, token.dep_,\n",
    "#             token.shape_, token.is_alpha, token.is_stop)"
   ]
  },
  {
   "cell_type": "code",
   "execution_count": 15,
   "metadata": {},
   "outputs": [
    {
     "name": "stdout",
     "output_type": "stream",
     "text": [
      "Address the following questions to help me understand your perspective:\n",
      " \n",
      " Why are you taking this course?\n",
      " What do you hope to learn from this course?\n",
      " What is one thing I should know about you to help you learn?\n",
      "Address the following questions to help me understand your perspective:\n",
      " \n",
      " Why are you taking this course?\n",
      " What do you hope to learn from this course?\n",
      " What is one thing I should know about you to help you learn?\n",
      "Address the following questions to help me understand your perspective:\n",
      " \n",
      " Why are you taking this course?\n",
      " What do you hope to learn from this course?\n",
      " What is one thing I should know about you to help you learn?\n",
      "Address the following questions to help me understand your perspective:\n",
      " \n",
      " Why are you taking this course?\n",
      " What do you hope to learn from this course?\n",
      " What is one thing I should know about you to help you learn?\n",
      "Address the following questions to help me understand your perspective:\n",
      " \n",
      " Why are you taking this course?\n",
      " What do you hope to learn from this course?\n",
      " What is one thing I should know about you to help you learn?\n",
      "Address the following questions to help me understand your perspective:\n",
      " \n",
      " Why are you taking this course? (2-4 sentences)\n",
      " What do you hope to learn from this course? (2-4 sentences)\n",
      " What is one thing I should know about you to help you learn? (2-4 sentences)\n"
     ]
    }
   ],
   "source": [
    "question = \"1\" # from 1 to 9\n",
    "\n",
    "with open(\"data/vis-journal-data.csv\", mode='r', encoding=\"latin-1\") as csv_file:\n",
    "    csv_reader = csv.DictReader(csv_file)\n",
    "    \n",
    "    for row in csv_reader:\n",
    "        if (row[\"JournalEntryWeek\"] == question):\n",
    "            print(row[\"PromptText\"])"
   ]
  },
  {
   "cell_type": "code",
   "execution_count": null,
   "metadata": {},
   "outputs": [],
   "source": []
  }
 ],
 "metadata": {
  "kernelspec": {
   "display_name": "Python 3",
   "language": "python",
   "name": "python3"
  },
  "language_info": {
   "codemirror_mode": {
    "name": "ipython",
    "version": 3
   },
   "file_extension": ".py",
   "mimetype": "text/x-python",
   "name": "python",
   "nbconvert_exporter": "python",
   "pygments_lexer": "ipython3",
   "version": "3.7.6"
  }
 },
 "nbformat": 4,
 "nbformat_minor": 4
}
