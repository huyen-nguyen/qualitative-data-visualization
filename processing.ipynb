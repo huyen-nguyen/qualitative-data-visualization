{
 "cells": [
  {
   "cell_type": "code",
   "execution_count": null,
   "metadata": {},
   "outputs": [],
   "source": [
    "import spacy\n",
    "import csv\n",
    "\n",
    "text = \"What I am hoping to gain from this course is a broader understanding of data and the ways in which we can use it in the professional world.\"\n",
    "\n",
    "nlp = spacy.load(\"en_core_web_sm\")\n",
    "doc = nlp(text)\n",
    "\n",
    "for chunk in doc.noun_chunks:\n",
    "    print(chunk.text, \n",
    "#           chunk.root.text, \n",
    "#           chunk.root.dep_,\n",
    "#           chunk.root.head.text\n",
    "         )\n",
    "\n",
    "verbs = set()\n",
    "\n",
    "for token in doc:\n",
    "    if (token.pos_ == \"VERB\" or token.pos_ == \"NOUN\"):\n",
    "        verbs.add(token.lemma_)\n",
    "        \n",
    "print(verbs)\n",
    "\n",
    "#     print(token.text, token.lemma_, token.pos_, token.tag_, token.dep_,\n",
    "#             token.shape_, token.is_alpha, token.is_stop)"
   ]
  },
  {
   "cell_type": "markdown",
   "metadata": {},
   "source": [
    "### Remove stop words function"
   ]
  },
  {
   "cell_type": "code",
   "execution_count": 64,
   "metadata": {},
   "outputs": [],
   "source": [
    "stopwords = [\"something\",\"lot\",\"a\", \"an\", \"what\",\"the\",\"i\",\"it\",\"me\",\"my\",\"myself\",\"we\",\"us\",\"our\",\"ours\",\"ourselves\",\"you\",\"your\",\"yours\",\"yourself\",\"yourselves\",\"he\",\"him\",\"his\",\"himself\",\"she\",\"her\",\"hers\",\"herself\",\"it\",\"its\",\"itself\",\"they\",\"them\",\"their\",\"theirs\",\"themselves\",\"what\",\"which\",\"who\",\"whom\",\"whose\",\"this\",\"that\",\"these\",\"those\",\"am\",\"is\",\"are\",\"was\",\"were\",\"be\",\"been\",\"being\",\"have\",\"has\",\"had\",\"having\",\"do\",\"does\",\"did\",\"doing\",\"will\",\"would\",\"should\",\"can\",\"could\",\"ought\",\"i'm\",\"you're\",\"he's\",\"she's\",\"it's\",\"we're\",\"they're\",\"i've\",\"you've\",\"we've\",\"they've\",\"i'd\",\"you'd\",\"he'd\",\"she'd\",\"we'd\",\"they'd\",\"i'll\",\"you'll\",\"he'll\",\"she'll\",\"we'll\",\"they'll\",\"isn't\",\"aren't\",\"wasn't\",\"weren't\",\"hasn't\",\"haven't\",\"hadn't\",\"doesn't\",\"don't\",\"didn't\",\"won't\",\"wouldn't\",\"shan't\",\"shouldn't\",\"can't\",\"cannot\",\"couldn't\",\"mustn't\",\"let's\",\"that's\",\"who's\",\"what's\",\"here's\",\"there's\",\"when's\",\"where's\",\"why's\",\"how's\",\"a\",\"an\",\"the\",\"and\",\"but\",\"if\",\"or\",\"because\",\"as\",\"until\",\"while\",\"of\",\"at\",\"by\",\"for\",\"with\",\"about\",\"against\",\"between\",\"into\",\"through\",\"during\",\"before\",\"after\",\"above\",\"below\",\"to\",\"from\",\"up\",\"upon\",\"down\",\"in\",\"out\",\"on\",\"off\",\"over\",\"under\",\"again\",\"further\",\"then\",\"once\",\"here\",\"there\",\"when\",\"where\",\"why\",\"how\",\"all\",\"any\",\"both\",\"each\",\"few\",\"more\",\"most\",\"other\",\"some\",\"such\",\"no\",\"nor\",\"not\",\"only\",\"own\",\"same\",\"so\",\"than\",\"too\",\"very\",\"say\",\"says\",\"said\",\"shall\",\"a\", \"b\", \"c\", \"d\", \"e\", \"f\", \"g\", \"h\", \"i\", \"j\", \"k\", \"l\", \"m\", \"n\", \"o\", \"p\", \"q\", \"r\", \"s\", \"t\", \"u\", \"v\", \"w\", \"x\", \"y\", \"z\"]"
   ]
  },
  {
   "cell_type": "code",
   "execution_count": 84,
   "metadata": {
    "collapsed": true,
    "jupyter": {
     "outputs_hidden": true
    }
   },
   "outputs": [
    {
     "name": "stdout",
     "output_type": "stream",
     "text": [
      "course,digital marketing firm,search engine optimization,internship,data,different types,various different purposes,fun,ways,class,interest,knowledge,career path,course,broader understanding,data,ways,professional world,visual learner,homework,work,homework assignments,time,\n",
      "business statistics,freshman,professor,infographics,data,idea,point,fake news debate,attention,time,2016 election,era,advanced technology,power structure,data,everything,graph,100%,mathematical thinking & visualization major,community psych major,data,information,potential,harm,larger social scales,honest scientist,order,various ways,others,high school,friends,tableau,data,robotics team,hahaha,scenes,collection,data,public,people,data,presentation,psychology,visualization,way,people,tableau,excel,graphs,syllabus,program,adaptability,development,people,github,users,code/mods/projects,various programming languages,javascript,c++,arduino,raspberry pi,anything,moment,classroom structure,questions,anything,mind,office hours,group work,issues,groupmates,professors,help,things,anything,new content,me~,\n",
      "course,accident,computer science,software engineering,statistics class,requirements,june,statistics class,class,list,class,list,stats credit,course,course,syllabus,professor hollingsworth,qsc manager,previous math professor,class,ton,great skills,information,real life,day,age,tons,data,world,time,data,world,front,people,class,anyone,class,\n",
      "class,final nw credit,course,content,work,life,graduation,abilities,key points,data,order,people,take,fast paced manner,one thing,example,visual form,\n",
      "course,major (mtv,data science,elective,statistics class,skills,data cleaning abilities,skills,course,work,data analysis projects,load,work,weaknesses,\n",
      "requirement,classes,major,just idea,topics,combination,data,deeper understanding,data visualization,data visualization,future career,usage,life,kinesthetic visual learner,information,speeches,strongest suit,\n"
     ]
    }
   ],
   "source": [
    "question = \"1\" # from 1 to 9\n",
    "lemmaDict = dict()\n",
    "\n",
    "def removeStopwords(text):\n",
    "    doc = nlp(text)\n",
    "    output = \"\"\n",
    "    for chunk in doc.noun_chunks:\n",
    "        arr = chunk.text.lower().split()\n",
    "        res = []\n",
    "        for term in arr:\n",
    "            if not (term in stopwords):\n",
    "                res.append(term)\n",
    "        str = \" \".join(res).strip()\n",
    "        if (len(str) > 0):\n",
    "            output+= str + \",\"\n",
    "    print(output)\n",
    "    return(output)\n",
    "\n",
    "\n",
    "with open(\"data/vis-journal-data.csv\", mode='r', encoding=\"latin-1\") as csv_in:\n",
    "    csv_reader = csv.DictReader(csv_in)                           \n",
    "    for index,row in enumerate(csv_reader):\n",
    "        if (row[\"JournalEntryWeek\"] == question):\n",
    "            removeStopwords(row[\"ResponseOnly\"])\n",
    "\n"
   ]
  },
  {
   "cell_type": "markdown",
   "metadata": {},
   "source": [
    "### Write nounchunks to files for every response"
   ]
  },
  {
   "cell_type": "code",
   "execution_count": 82,
   "metadata": {
    "collapsed": true,
    "jupyter": {
     "outputs_hidden": true
    }
   },
   "outputs": [
    {
     "name": "stdout",
     "output_type": "stream",
     "text": [
      "course,digital marketing firm,search engine optimization,internship,data,different types,various different purposes,fun,ways,class,interest,knowledge,career path,course,broader understanding,data,ways,professional world,visual learner,homework,work,homework assignments,time,\n",
      "r.,purpose,data visualization,great program,code,tangible way,anything,challenges,two visualizations,personal timeline,news graphic,exercises,really hard time,news article,expectation,assignment,personal timeline,life,meaningful way,strategy,lack,better saying,different way,class,everything,aspects,high impact practices project interest,aspects,point,data,students,experience,uw bothell,individual,resources,data,transfer students,success,school,internship programs,students,preferred field,success,work force,career,college,future,bills,\n",
      "presentation,explanation,correct answers,coder,eyes,answer,question,studio,assignments,system,time,google explanations,average person,assignments,code,\"correct answer,summary,answers,questions,setup,system,vein,everything,ties,answer,number,time,easier time,another thing,different types,data,class,set,data,type,data,one package,rstudio,different types,data,paired visualization,things,big part,rest,quarter,ground research project,giant sets,data,\n",
      "role,group,everyone,track,ability,work,ideation,research project,research question,regular writing,sense,hardest part,research question,guidance,structure,papers,freedom,question,writing,hypothesis,regular writing assignment,hardest part,research question,specific points different opinions,data,data,hard time,r.,data,visualizations,hang,point,office hours,virtual office hours,team,ladies,\n",
      "class,assignment,everyone,certain data,class,table,different aspect,data,research question,group,presentation,different types,data,everyone,well rounded idea,type,visualization,\n",
      "studio,hw assignments,coder,java,html,css,importance,industry,satisfaction,motivation,\n",
      "etiowo's presentation,really great job,evolution,career pre,things,perspective,upcoming graduate,everything,data analysts,type,business,students,uncertainty,college,real world,data visualization,career goals,sense,almost sense,search engine optimization,ways,story,client,data,client,data,people,coding,knowledge,great speaker,different aspects,project,code,exactly,two thumbs,\n",
      "data visualization,quarter,job,ggplot,many industries,best way,data,new skills,data,visualizations,place,new lense,\n",
      "opinion,data,purpose,concrete, clear evidence,claim,quote,angotti,data,avenue,communication,audience,claims,data visualization,catalyst,argument,conversation,someone,many different things,one's point,discrepancies,areas,company,wide variety,ways,data visualizations,simple terms,form,communication,people,number,things,visualizations,major roll,way,information,people,clear form,information,\n",
      "business statistics,freshman,professor,infographics,data,idea,point,fake news debate,attention,time,2016 election,era,advanced technology,power structure,data,everything,graph,100%,mathematical thinking & visualization major,community psych major,data,information,potential,harm,larger social scales,honest scientist,order,various ways,others,high school,friends,tableau,data,robotics team,hahaha,scenes,collection,data,public,people,data,presentation,psychology,visualization,way,people,tableau,excel,graphs,syllabus,program,adaptability,development,people,github,users,code/mods/projects,various programming languages,javascript,c++,arduino,raspberry pi,anything,moment,classroom structure,questions,anything,mind,office hours,group work,issues,groupmates,professors,help,things,anything,new content,me~,\n",
      "prior journal,understanding,programs,data visualization,primarily exell,tableau,interface,tableau,graphs,screen,'codes,data sets,graphs,appearance,studior,javascript,actual 'coding' bit,python,python,track,code,complicated territory,visualization,program,technical data,patterns,straight forward 'logic' stuff,personal timeline,news graphic,news graphic,data,graphs,much information,mathematical breakdown,import prices,avacados,grapes,year,simple pie graph,customer base percentage,personal timeline,everyone,different format,life,circles,avacado seeds,shape,graphs,cute imagery,pie graphs,general timeline,germaine,quality,experiences,expressive line graph,stats,many people,high impact practices,many working students,pole,students,work partime,fulltime jobs,school,structure,uwbs classroom schedules,low-pressure small environment,part,students,ability,cost,campus spaces,student,much research,clubs,sort,school,school,parents,business,working student population,student engagement,numbers,student body,uwb,set standard,success,typical checklist,good student,great university life,way,commuter school,home,ties,familial expectations,campus,narratives,freedom,dorm,life,many students,experience,past,person,home,success,standards,every day,classes,focus,personal development,academic scoring,space,ideas,fluid way,much stress,\n",
      "qualitative data person,connections,ideas,experience,python,data,tableau graphs,highschool,scouting data analyst,robotics team,ideas,graphs,quite technical person,numbers,data,value,number,numerical component,connections,visuals,code,details,code,brain,textbook exercise,actual graph,seat,everything,swirl,coding portion,books,public library,purpose,uses,stats,overall interest,excises,things,mind,errors,table mates,class,idea,sounds,nightmare,cs related stuff,high school,value,visualization,social sciences,academic articles,tables,issues,graphs,diagrams,worlds,, powerful qualitative quantitative analysis,\n",
      "work,sections,question,group,everything,place,research question,variables,data,research question,completely different directions,specifics,literature,undergrad,questions,data,maze,limitations,perspective,swirl,answers,code,visual person,visuals,tables,data,everything,graphs,rstudio,everything,sense,specifics,coding,practices,everything,aspect,difference,vector,matrix,picture,code,difference,in-between,help,notes,written notes,class,visuals,material,\n",
      "ggplots,code,graphs,actual coding,'logic' formulas,computers,brain,patterns,things,mind,things,sort,foundation,high school,cs,everyone,sense,learned helplessness,data visualization,just charts,data,weird ugly format,data,surveys,things,happiness,burnout,numbers,image,idea,relation,everything,open-work,class format,especially anything,math/logic-based thinking,help,help,help,qualitative data,ideas,visual person,class,little visuals/infographics/pictures/stories/scenarios,concepts,things,books,shelf,content,books,order,color,title,author name,publication code,screen,projector,step,step,things,everything,sense,much time,resources,video tutorials,podcasts,infographics,-progress,groups,data summary,research,question,correlation presentation,established agenda,collective,types,graphs presentations,notes,powerpoints,certain groups,audience,others,memorable = content,measurement,data worksheet,nominal,ordinal,ratio,interval,worksheet,reference,1st week - creating visuals,quantitative data,articles,avocados,grapes,pie charts,data summary,qualitative(?) data,brief presentation,representation,data,representation reading,journal,response,basics,data science,\n",
      "experience,last journal entry,things,things,unexpected things,different types,acronyms,different types,statistical tests,analytical approaches,group,linear mixed effect,(lme,test,acronym,mistake,acronyms,glm,general linear models,proper test,lines,little mistakes,anything,right direction,case,\n",
      "etiowo,presentation,database,information,doctors,information,time,diagnosis,trends,patient's experience,comparison,others,terms,stage,someone's condition,gap,time,condition,accuracy,predictions,better patient,hospital reputation,doctors,staff,patients,patients,appropriate care,(io,) psychology,event,seattle pacific university,lengthy conversation,phd student,r.,event,student interest nights,students,masters,phd programs,classes,question,professors,work,io psychologists,analysis,businesses,organizational practices,employee engagement,employee retention,fairly new, fast-growing field,high demand,company reconstruction,io psychologists,consultants,either create assessments,existing data,changes,company,data visualization,means,impact,data analysis,organizations,business practices,simplified charts,visuals,sake,efficiency,information,quick image,paragraph,information,phd student,many companies,analysts,spss,many ways,remaining question,career,data science,nuances,different skills,specific jobs,skill level,vary,skills,data visualization career,many people,mass amounts,unanalyzed data,people,data visualization,grunt work,point,pretty graphs,data,robotics,high school,grunt work,manually inserting data,excel sheets,every match,0s,1s,issues,data,clean set,analyst,visualization,someone,data,teams,one,work,data,someone,pretty picture,people,work,end,kind,work,competition season,end,day,information,people,decisions,\n",
      "data visualization,understanding,nuanced visualizations,tableau,data,high school robotics team,much information,relevance,data,opposite,case,clear precise communication,reasoning,certain graphs,certain information,others,practicality,design,aesthetics,numeric presentations,information,artistic visual presentations,data visualization,lovechild,ideas,another way,interdisciplinary practices,statistics,design,\n",
      "variety,visual communication,wider audience,hearts,case,chasing ice,visual documentation,glaciers,larger audience,variety,cultures,ages,life,significant prior knowledge,someone,changes,time,impact,long term,people,winter,penguins,climate change,ice caps,relation,photos,conversation,contrast,data graphs,factual information,regards,long term,part,data visualizations,memory,simplicity,emotional depth,efficient design,data visualization,others,basis,factual claims,persuasion,tool,communication,evidence,arguments,purpose,tool,power,power,others,weapon,data visualization,people,mutual understanding,patterns,world,growth,arts,depths,human emotions,data visualization,potential,depth,human thought,intellectual exploration,purpose,tools,future,\n",
      "course,accident,computer science,software engineering,statistics class,requirements,june,statistics class,class,list,class,list,stats credit,course,course,syllabus,professor hollingsworth,qsc manager,previous math professor,class,ton,great skills,information,real life,day,age,tons,data,world,time,data,world,front,people,class,anyone,class,\n",
      "java,bit,c++,teaching style,java,java,fact,pace,swirl,actual person,java,personal timeline,people,basics,year,major things,life,data visualization,news graphic,typical graphs,date,samuel,i.,challenges,others,challenges,thinking,situation,reality,solution,challenges,problem,someone,light,situation,study,internships,research aspects,everyone,actual proof,successful graduate,one,first year programs,discovery classes,uwb,someone,discovery classes,orientation,people,dcore classes,waste,time,actual \"majors,aspects,university,dcore class,reading,waste,time,design,design,engineering,different major, different hobbies,success,uwb,classes,great job,end,cool friends,people,university,degree,reality,degree,job,degree,things,\n",
      "things,thing,point,swirl,different graphs,things,math,graphs,different commands,different sections,research question,question,excel sheet,data,information,excel sheet,way,research question,excel sheets,brain,mind,charge,group,group mates,quiet people,groups,quiet person,way,talkative person,nothing,good skill,\n",
      "communication,research,group,google documents,slide presentation,members,platform,everyone,terms,research,assignment,small part,respective document,research questions,much freedom,writing,classes,anything,class,certain questions,much creativity,just analysis,research question,ton,information,question,easy research question,things,graphs,line charts,bar graphs,scatter plots,graphs,week,graphs,easiest type,graph,information,reader,/viewer,examples,presentation,graphs,anything,time,research,new graphing style,\n",
      "group presentation,hw,number,hw,measurement personal timeline,measurement group presentations,assignments,data summary,research question,graphs,excel,rstudio,couple,key concepts,research projects,responsible conduct,documents,integrity,writing,citations,class,common knowledge,credit,authors,\n",
      "impression,data visuals,stats,way,ways,languages,general object-oriented coding stuff,languages,languages,java,c++,java,c++,slower pace,substantial amount,math-related things,strings,math,\n",
      "uwb,computer science,software engineering,math,easy add,people,backup,data scientist,data analytics,health care,others,\"common person,plain english,things,process,results,cs,bit,graphic design,people,process,way,everyone,technical language,data analysts,health care,healthcare data,certain conclusions,data,one thing,etiowo,patient care,efficiency,new job,people,healthcare facility,health care facility,data analyst,healthcare practitioners,better, faster efficient care,data visualization,especially,career,daily basis,jobs,university,half price,field,money,guaranteed job,pure interest,time,computer,work,people,term,graphs,graphs,people,jobs,money,interest,jobs,difference,bat,career field,data visualization,money,salary,\n",
      "data visualization,research,group discussion presentation,data visualization,warming stripes,warming stripes graphs,conversations,global warming climate change,statistic online,two three americans,climate change,fewer half,americans,climate change,data visualization,warming stripes,simple easy way,people,climate change,climate change,real problem,stats,great thing,warming stripes,data visuals,in-depth,information,warming stripes,explanation,efficient important data visualisation,\n",
      "data visualization,story,data,information,people,graphs,plots,pictures,tables,charts,complex data,general population,data visualization,people,knowledge,subject,main question,function data visualization,communication,data,visual form,others,data,people,digest information,conversation,given dataset/topic,\n",
      "class,final nw credit,course,content,work,life,graduation,abilities,key points,data,order,people,take,fast paced manner,one thing,example,visual form,\n",
      "way,math,way,timeline,ideas,news graphic,two graphs,basic visualizations,one strategy,news graphic visualization,array,data visualizations,complex graphs,much personal experience,number/article,depth/detailed graphs,regards,high impact practices project,best way,data,big question,multiple variables,question,students,school,results,success,things,different people,success,goals,ability,best self,drive,internship,big girl job,\n",
      "things,first lessons,studios,interest,coding world,basics,concept,cognitive artifacts,role,data visualization,example,reference,class,data,bar graph comparison,powerpoint,things,complicated codes,math logic skills,new environment,computer,things,studios,one thing,measurements,data,different types,graphs,order,use,group project,\n",
      "groups success,touching base,contact,texting,questions,questions,others,research question,papers,data,account,numbers,argument,contrast,english paper,example,people's work,concepts,connections,research question,argument,considering,scientific research paper,number,years,articles,research questions,question,much confusion,type,visualization,group,r. discuss,group,graphs,computer,data,\n",
      "class,groups,type,data,peers,order,table,presentations,different types,graphs,group,others,connections,kind,data,situation,appropriate visualization,research question,groups,data summaries,type,work,annotation assignment,group,contact,text message,anything,class,past group work assignments,data,valuable thing,modern world,way,part,ethical issues,daily lives,\n",
      "math,basic levels,sense,excitement,\"error\" message,many failed attempts,language,coding languages,learning,many others,\n",
      "class,wednesday,ted,someone,weeks journal,aaron koblin,data artist,line,work,data visualization,data,numbers,quarter,koblin,visualizations,number,flights,country,different times,day,type,data visualization skill,music videos,creative director,late johnny cash,bands,arcade fire,tedtalk,work,parallels,work,r.,assigning certain objects,name,coding/programming,final product,\n",
      "class,realm,coding,data visualization,moment,given data,beginning,course,important tools,class,experience,html,myspace,tumblr,tools,given data,pleasing way,opinion,\n",
      "data visualization,form,graphs,class,images,chasing ice,times,story,drastically different ways,graph,rising sea levels,example,line,images,landscape,glacial areas,photo,reaction,physical element,audience,changes,long-lasting effect,two pictures,just two date/time stamps,visual literacy,graph,media companies,data graphics,attention,information,closed doors,audience,data graphics,media,goal,audiences attention,topic,seed,interest,data visualization,way,story,data,way,target audience,\n",
      "course,core requirement,major (mtv,data science,elective,statistics class,skills,data cleaning abilities,skills,course,work,data analysis projects,load,work,weaknesses,\n",
      "expectations,reality,2 years,refresher,syntax,java syntax,recent experience,much challenge,visualizations,difficult part,ideas,news line,number 47 assignment,advertising techniques,inspiration,aspect,high impact practices,interested,data,student transfers,uw bothell,central washington university,four years,first two years,major,university,uwb,fact,certain departments,university,order,transfer rates,data,phenomenon,success,things,degree,least large chunk,life,success,others,unique definitions,personal experience,\n",
      "little work,group data visualization presentation,easiest assignments,intro assignments,swirl,group,maps,gis class,refresher,knowledge,class,fellow student,patient teacher,research question,exact area,knowledge,background research,again,,teaching skills,others,prior experience,ability,good research questions,background research skills,sorts,assignments,opportunity,class,\n",
      "research question,section,research assignment,specific question,gap,knowledge,topic,interest,data summary,data,duration,project,charge,data analysis,strengths,parts,project,research projects,statistics research classes,typical writing classes,aspects,research,depth,preliminary research,articles,need,research,pollinators,introduction,native bee species,research,introduction,companies,bees/pollinators,individuals,farms,population,gap,information,research question,thing,formation,research question,indepth important question,data,shallow question,standards,question,class,confusion,denise,options,research question,best one,feedback,research question assignment,right path,\n",
      "objective,group ggplot2 visualization assignment,presentations,measurement type handout,group ggplot2 visualization assignment,class,reading,data science,chapters,information,major assignments,\n",
      "simple operators,2 years,actual syntax,functions,data,functions,columns,separate data sets,new data sets,chi-squared test,excel,hand,tibbles,thing,certain situations,\n",
      "etiowo,presentation,first time,actual inside presentation,career path,work,data analysts,career,data analyzation,etiowo’s specific career path,definite idea,answer,question,advice,data analysts,job,field post graduation,advice,field,data analysts,almost every field,type,data,process,“senior” data analyst,differences,senior entry level,experience,senior analyst,etiowo,time,presentation,bit,stress,post graduation,\n",
      "whole,understanding,data visualization,stronger grasp,tests,data,stronger grasp,structure,research paper,knowledge,structure,book,problems,answers,course,understanding,data visualization,contextualization,concepts,actual research paper,analysis,\n",
      "data visualization,important information,format,people,much experience,data visualizations,many extraneous elements,viewer,sizing,misleading visuals,size,elements,bars,lines,user,trend,use,photos,graphs,emotional response,data,people,data visuals,purpose,message,photos,graph,downside,images,exact measurement,image,global warming effects,glaciers,graph,exact measurements,decline/effects,urgency,data,call,action,use,photos,accurate forms,visualization,\n",
      "requirement,classes,major,just idea,topics,combination,data,deeper understanding,data visualization,data visualization,future career,usage,life,kinesthetic visual learner,information,speeches,strongest suit,\n",
      "linear algebra,expectations,class,reality,exactly,personal timeline,drawing,oops,challenges,information,news graphic,group,confusion,47 percent,people,church,eastern,different displays,data visualization,p.s.,group,news,47 percent,people,church,timeline,major events,things,value,news graphic,group,common way,type,data,percentages,pie chart,\n",
      "thoughts,relation,student success project,success,experiences,gpa,experiences,career field,experience,connection,things,research study,cblr,just anything,chosen direction,gpa,gpa,guidance,much high-impact practices,research studies,covid,mine,next summer,capstone,end,next year,internship,volunteer,\n",
      "research question,forms,writing,critical thinking,question,enough details,direction,writings,free form,space,detail,information,learning,components,graph/chart,hip project,details,just layout,information,rstudio,functions,research project,just,project,project,information,\n",
      "zoom,questions,steps,assignments,groups,time,question,moment,different agendas,classes,large workload,assignments,assignments,zoom,break groups,questions,one assignment,half,assignment,\n",
      "functions,idea,data set,rows,columns,different themes,sankey plots,thing,usage,different packages,process,\n",
      "course,critical thinking skills,large picture,smaller scales,objective,one's experiences,subject matter,factors,sense,matters,complex,rewarding (coding) system,bunch,random things,functions,code,way,\n",
      "course,slow pace,coding process,data visualization,couple,weeks,fact,class,outcomes,data visualization,answers,questions,visual person,data visualization,life,structure,coding,\n"
     ]
    }
   ],
   "source": [
    "# --------- Write nounchunks to file -----------\n",
    "\n",
    "with open('data/vis-journal-data.csv','r') as csvinput:\n",
    "    with open('data/vis-noun-data.csv', 'w') as csvoutput:\n",
    "        writer = csv.writer(csvoutput, lineterminator='\\n')\n",
    "        reader = csv.reader(csvinput)\n",
    "\n",
    "        all = []\n",
    "        row = next(reader)\n",
    "        row.append('Nounchunks')\n",
    "        all.append(row)\n",
    "\n",
    "        for row in reader:\n",
    "            row.append(removeStopwords(row[7]))\n",
    "            all.append(row)\n",
    "\n",
    "        writer.writerows(all)"
   ]
  },
  {
   "cell_type": "code",
   "execution_count": null,
   "metadata": {},
   "outputs": [],
   "source": [
    "# Get data for wordcloud\n",
    "\n",
    "# read from vis journal data\n",
    "# write to a form of prompt file\n",
    "\n"
   ]
  },
  {
   "cell_type": "code",
   "execution_count": 53,
   "metadata": {},
   "outputs": [
    {
     "data": {
      "text/plain": [
       "True"
      ]
     },
     "execution_count": 53,
     "metadata": {},
     "output_type": "execute_result"
    }
   ],
   "source": [
    "'do' in stopwords"
   ]
  },
  {
   "cell_type": "code",
   "execution_count": 58,
   "metadata": {},
   "outputs": [
    {
     "name": "stdout",
     "output_type": "stream",
     "text": [
      "['hoping', 'gain', 'course', 'broader', 'understanding', 'data']\n"
     ]
    }
   ],
   "source": [
    "str1 = \"What I am hoping to gain from this course is a broader understanding of data and\"\n",
    "arr = str1.lower().split()\n",
    "res = []\n",
    "\n",
    "for term in (arr):\n",
    "    if not (term in stopwords):\n",
    "        res.append(term)\n",
    "print(res)"
   ]
  },
  {
   "cell_type": "code",
   "execution_count": null,
   "metadata": {},
   "outputs": [],
   "source": []
  }
 ],
 "metadata": {
  "kernelspec": {
   "display_name": "Python 3",
   "language": "python",
   "name": "python3"
  },
  "language_info": {
   "codemirror_mode": {
    "name": "ipython",
    "version": 3
   },
   "file_extension": ".py",
   "mimetype": "text/x-python",
   "name": "python",
   "nbconvert_exporter": "python",
   "pygments_lexer": "ipython3",
   "version": "3.7.6"
  }
 },
 "nbformat": 4,
 "nbformat_minor": 4
}
